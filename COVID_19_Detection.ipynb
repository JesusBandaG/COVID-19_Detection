{
  "nbformat": 4,
  "nbformat_minor": 0,
  "metadata": {
    "colab": {
      "name": "COVID_19_Detection.ipynb",
      "provenance": [],
      "collapsed_sections": [],
      "include_colab_link": true
    },
    "kernelspec": {
      "name": "python3",
      "display_name": "Python 3"
    },
    "accelerator": "GPU"
  },
  "cells": [
    {
      "cell_type": "markdown",
      "metadata": {
        "id": "view-in-github",
        "colab_type": "text"
      },
      "source": [
        "<a href=\"https://colab.research.google.com/github/JesusBandaG/COVID-19_Detection/blob/main/COVID_19_Detection.ipynb\" target=\"_parent\"><img src=\"https://colab.research.google.com/assets/colab-badge.svg\" alt=\"Open In Colab\"/></a>"
      ]
    },
    {
      "cell_type": "markdown",
      "metadata": {
        "id": "oczI-pshfqLX"
      },
      "source": [
        "# **COVID-19 Detection**"
      ]
    },
    {
      "cell_type": "code",
      "metadata": {
        "id": "6rcumo5nbT7s",
        "colab": {
          "base_uri": "https://localhost:8080/"
        },
        "outputId": "d80cc85f-0842-4e03-e244-e5560589dfff"
      },
      "source": [
        "# Mounting into our Google Drive\n",
        "from google.colab import drive\n",
        "drive.mount('/content/drive')"
      ],
      "execution_count": null,
      "outputs": [
        {
          "output_type": "stream",
          "text": [
            "Mounted at /content/drive\n"
          ],
          "name": "stdout"
        }
      ]
    },
    {
      "cell_type": "code",
      "metadata": {
        "id": "K9ROhJRuck0z"
      },
      "source": [
        "# Importing required libraries\n",
        "import random, os, shutil\n",
        "import copy\n",
        "import imageio\n",
        "import PIL\n",
        "from keras.preprocessing import image\n",
        "import numpy as np\n",
        "import cv2"
      ],
      "execution_count": null,
      "outputs": []
    },
    {
      "cell_type": "code",
      "metadata": {
        "id": "9P6HMYmbdBVf"
      },
      "source": [
        "# Creation of the directory that will store the training and validation datasets\n",
        "os.mkdir('COVID-19_Dataset')"
      ],
      "execution_count": null,
      "outputs": []
    },
    {
      "cell_type": "markdown",
      "metadata": {
        "id": "qXjLwrifgmSY"
      },
      "source": [
        "### **Extracting the data from Google Drive**"
      ]
    },
    {
      "cell_type": "code",
      "metadata": {
        "id": "zBfvl43Icl6q"
      },
      "source": [
        "from zipfile import ZipFile\n",
        "\n",
        "datasets = ['Train', 'Validation']\n",
        "for dataset in datasets:\n",
        "  with ZipFile('/content/drive/My Drive/COVID-19_Dataset/{}.zip'.format(dataset), 'r') as zip: \n",
        "      zip.extractall('COVID-19_Dataset')  "
      ],
      "execution_count": null,
      "outputs": []
    },
    {
      "cell_type": "markdown",
      "metadata": {
        "id": "sDGU7sI6JlPY"
      },
      "source": [
        "### **Storing the dataset paths**"
      ]
    },
    {
      "cell_type": "code",
      "metadata": {
        "id": "aUZHNVy_RRs1"
      },
      "source": [
        "train_dir = os.path.join('COVID-19_Dataset/Train')\n",
        "validation_dir = os.path.join('COVID-19_Dataset/Validation')"
      ],
      "execution_count": null,
      "outputs": []
    },
    {
      "cell_type": "markdown",
      "metadata": {
        "id": "GBilhQPaeRPN"
      },
      "source": [
        "# ***Method #1 (without Transfer Learning)***"
      ]
    },
    {
      "cell_type": "markdown",
      "metadata": {
        "id": "ysYRWbXVQ_lV"
      },
      "source": [
        "## **Defining the architecture of the CNN**"
      ]
    },
    {
      "cell_type": "code",
      "metadata": {
        "id": "t2LGYLGqQ-x1",
        "colab": {
          "base_uri": "https://localhost:8080/"
        },
        "outputId": "f754d454-2737-4cdd-c1e1-f4e5b28e4ed1"
      },
      "source": [
        "from keras import layers\n",
        "from keras import models\n",
        "from keras.layers.normalization import BatchNormalization\n",
        "\n",
        "model = models.Sequential()\n",
        "model.add(layers.Conv2D(32,kernel_size=(3,3),activation='relu',input_shape=(224,224,3)))\n",
        "model.add(layers.Conv2D(128,(3,3),activation='relu'))\n",
        "model.add(layers.MaxPooling2D(pool_size=(2,2)))\n",
        "model.add(layers.Dropout(0.25))\n",
        "\n",
        "model.add(layers.Conv2D(64,(3,3),activation='relu'))\n",
        "model.add(layers.MaxPooling2D(pool_size=(2,2)))\n",
        "model.add(layers.Dropout(0.25))\n",
        "\n",
        "model.add(layers.Conv2D(128,(3,3),activation='relu'))\n",
        "model.add(layers.MaxPooling2D(pool_size=(2,2)))\n",
        "model.add(layers.Dropout(0.25))\n",
        "\n",
        "model.add(layers.Flatten())\n",
        "model.add(layers.Dense(64,activation='relu'))\n",
        "model.add(layers.Dropout(0.5))\n",
        "model.add(layers.Dense(1,activation='sigmoid'))\n",
        "\n",
        "model.summary()"
      ],
      "execution_count": null,
      "outputs": [
        {
          "output_type": "stream",
          "text": [
            "Model: \"sequential\"\n",
            "_________________________________________________________________\n",
            "Layer (type)                 Output Shape              Param #   \n",
            "=================================================================\n",
            "conv2d (Conv2D)              (None, 222, 222, 32)      896       \n",
            "_________________________________________________________________\n",
            "conv2d_1 (Conv2D)            (None, 220, 220, 128)     36992     \n",
            "_________________________________________________________________\n",
            "max_pooling2d (MaxPooling2D) (None, 110, 110, 128)     0         \n",
            "_________________________________________________________________\n",
            "dropout (Dropout)            (None, 110, 110, 128)     0         \n",
            "_________________________________________________________________\n",
            "conv2d_2 (Conv2D)            (None, 108, 108, 64)      73792     \n",
            "_________________________________________________________________\n",
            "max_pooling2d_1 (MaxPooling2 (None, 54, 54, 64)        0         \n",
            "_________________________________________________________________\n",
            "dropout_1 (Dropout)          (None, 54, 54, 64)        0         \n",
            "_________________________________________________________________\n",
            "conv2d_3 (Conv2D)            (None, 52, 52, 128)       73856     \n",
            "_________________________________________________________________\n",
            "max_pooling2d_2 (MaxPooling2 (None, 26, 26, 128)       0         \n",
            "_________________________________________________________________\n",
            "dropout_2 (Dropout)          (None, 26, 26, 128)       0         \n",
            "_________________________________________________________________\n",
            "flatten (Flatten)            (None, 86528)             0         \n",
            "_________________________________________________________________\n",
            "dense (Dense)                (None, 64)                5537856   \n",
            "_________________________________________________________________\n",
            "dropout_3 (Dropout)          (None, 64)                0         \n",
            "_________________________________________________________________\n",
            "dense_1 (Dense)              (None, 1)                 65        \n",
            "=================================================================\n",
            "Total params: 5,723,457\n",
            "Trainable params: 5,723,457\n",
            "Non-trainable params: 0\n",
            "_________________________________________________________________\n"
          ],
          "name": "stdout"
        }
      ]
    },
    {
      "cell_type": "markdown",
      "metadata": {
        "id": "9BHBw-s_KD-N"
      },
      "source": [
        "## **Compiling the model**"
      ]
    },
    {
      "cell_type": "code",
      "metadata": {
        "id": "jOjtTtIBRill"
      },
      "source": [
        "from keras import optimizers\n",
        "model.compile(loss='binary_crossentropy',\n",
        "              optimizer='adam',\n",
        "              metrics=['acc'])"
      ],
      "execution_count": null,
      "outputs": []
    },
    {
      "cell_type": "markdown",
      "metadata": {
        "id": "HLFUQRRtKH8F"
      },
      "source": [
        "## **Generators definition**"
      ]
    },
    {
      "cell_type": "code",
      "metadata": {
        "id": "LUp2jo6lRqSG",
        "colab": {
          "base_uri": "https://localhost:8080/"
        },
        "outputId": "f69f5bf0-d686-41f5-b43f-a55f0db22a3d"
      },
      "source": [
        "# Using ImageDataGenerator to read images from directories\n",
        "from keras.preprocessing.image import ImageDataGenerator\n",
        "\n",
        "train_datagen = ImageDataGenerator(rescale=1./255, \n",
        "                                   shear_range = 0.2,\n",
        "                                   zoom_range = 0.2, \n",
        "                                   horizontal_flip = True)\n",
        "\n",
        "test_datagen = ImageDataGenerator(rescale=1./255)\n",
        "\n",
        "train_generator = train_datagen.flow_from_directory(\n",
        "        train_dir, # Target directory\n",
        "        target_size=(224, 224),\n",
        "        batch_size= 32, \n",
        "        color_mode='rgb',\n",
        "        class_mode='binary')\n",
        "\n",
        "validation_generator = test_datagen.flow_from_directory(\n",
        "        validation_dir,\n",
        "        target_size=(224, 224),\n",
        "        batch_size=1,\n",
        "        color_mode='rgb',\n",
        "        class_mode='binary',\n",
        "        shuffle=False)"
      ],
      "execution_count": null,
      "outputs": [
        {
          "output_type": "stream",
          "text": [
            "Found 224 images belonging to 2 classes.\n",
            "Found 60 images belonging to 2 classes.\n"
          ],
          "name": "stdout"
        }
      ]
    },
    {
      "cell_type": "markdown",
      "metadata": {
        "id": "R-bRqMJZKLS9"
      },
      "source": [
        "## **Training**"
      ]
    },
    {
      "cell_type": "code",
      "metadata": {
        "id": "cIbSj6NJR35o",
        "colab": {
          "base_uri": "https://localhost:8080/"
        },
        "outputId": "32fba16e-bbf5-4ec3-b874-cb1f95417ec5"
      },
      "source": [
        "# Training and validation stages\n",
        "history = model.fit(\n",
        "      train_generator,\n",
        "      steps_per_epoch=7,\n",
        "      epochs= 10,\n",
        "      validation_data=validation_generator,\n",
        "      validation_steps=60)"
      ],
      "execution_count": null,
      "outputs": [
        {
          "output_type": "stream",
          "text": [
            "Epoch 1/10\n",
            "2/7 [=======>......................] - ETA: 0s - loss: 4.1621 - acc: 0.4844WARNING:tensorflow:Callbacks method `on_train_batch_end` is slow compared to the batch time (batch time: 0.0685s vs `on_train_batch_end` time: 0.1285s). Check your callbacks.\n",
            "7/7 [==============================] - 6s 870ms/step - loss: 1.7826 - acc: 0.5357 - val_loss: 0.7082 - val_acc: 0.5000\n",
            "Epoch 2/10\n",
            "7/7 [==============================] - 7s 944ms/step - loss: 0.7374 - acc: 0.5089 - val_loss: 0.6916 - val_acc: 0.5000\n",
            "Epoch 3/10\n",
            "7/7 [==============================] - 6s 914ms/step - loss: 0.6892 - acc: 0.4777 - val_loss: 0.6836 - val_acc: 0.5000\n",
            "Epoch 4/10\n",
            "7/7 [==============================] - 6s 915ms/step - loss: 0.6541 - acc: 0.5000 - val_loss: 0.6611 - val_acc: 0.5000\n",
            "Epoch 5/10\n",
            "7/7 [==============================] - 6s 906ms/step - loss: 0.6129 - acc: 0.5804 - val_loss: 0.5814 - val_acc: 0.7667\n",
            "Epoch 6/10\n",
            "7/7 [==============================] - 7s 940ms/step - loss: 0.5507 - acc: 0.7991 - val_loss: 0.4954 - val_acc: 0.6833\n",
            "Epoch 7/10\n",
            "7/7 [==============================] - 6s 870ms/step - loss: 0.5171 - acc: 0.8170 - val_loss: 0.4890 - val_acc: 0.9500\n",
            "Epoch 8/10\n",
            "7/7 [==============================] - 6s 915ms/step - loss: 0.5285 - acc: 0.8170 - val_loss: 0.4783 - val_acc: 0.8500\n",
            "Epoch 9/10\n",
            "7/7 [==============================] - 6s 920ms/step - loss: 0.4703 - acc: 0.8170 - val_loss: 0.4271 - val_acc: 0.9500\n",
            "Epoch 10/10\n",
            "7/7 [==============================] - 6s 920ms/step - loss: 0.4637 - acc: 0.8973 - val_loss: 0.4622 - val_acc: 0.9667\n"
          ],
          "name": "stdout"
        }
      ]
    },
    {
      "cell_type": "markdown",
      "metadata": {
        "id": "8D56Gvl6HS0V"
      },
      "source": [
        "## **Accuracy and loss graphs**"
      ]
    },
    {
      "cell_type": "code",
      "metadata": {
        "id": "YRryDq8kHS0W",
        "colab": {
          "base_uri": "https://localhost:8080/",
          "height": 545
        },
        "outputId": "02074c12-bbef-4dd5-b2da-5a082014a782"
      },
      "source": [
        "import matplotlib.pyplot as plt\n",
        "\n",
        "acc = history.history['acc']\n",
        "val_acc = history.history['val_acc']\n",
        "loss = history.history['loss']\n",
        "val_loss = history.history['val_loss']\n",
        "\n",
        "epochs = range(len(acc))\n",
        "\n",
        "plt.plot(epochs, acc, 'go', label='Precisión en el entrenamiento')\n",
        "plt.plot(epochs, val_acc, 'r', label='Precisión en la validación')\n",
        "plt.title('Precisión durante el entrenamiento y la validación')\n",
        "plt.legend()\n",
        "\n",
        "plt.figure()\n",
        "\n",
        "plt.plot(epochs, loss, 'go', label='Pérdida en el entrenamiento')\n",
        "plt.plot(epochs, val_loss, 'r', label='Pérdida en la validación')\n",
        "plt.title('Pérdida durante el entrenamiento y la validación')\n",
        "plt.legend()\n",
        "\n",
        "plt.show()"
      ],
      "execution_count": null,
      "outputs": [
        {
          "output_type": "display_data",
          "data": {
            "image/png": "[encoded data removed]",
            "text/plain": [
              "<Figure size 432x288 with 1 Axes>"
            ]
          },
          "metadata": {
            "tags": [],
            "needs_background": "light"
          }
        },
        {
          "output_type": "display_data",
          "data": {
            "image/png": "[encoded data removed]",
            "text/plain": [
              "<Figure size 432x288 with 1 Axes>"
            ]
          },
          "metadata": {
            "tags": [],
            "needs_background": "light"
          }
        }
      ]
    },
    {
      "cell_type": "markdown",
      "metadata": {
        "id": "8Zd-LQyEeHzV"
      },
      "source": [
        "## **Retraining the model**"
      ]
    },
    {
      "cell_type": "code",
      "metadata": {
        "id": "xRGSObLWHD3x",
        "colab": {
          "base_uri": "https://localhost:8080/"
        },
        "outputId": "abacd3b6-d098-493e-b964-fc6680a42b1c"
      },
      "source": [
        "from keras import layers\n",
        "from keras import models\n",
        "from keras.layers.normalization import BatchNormalization\n",
        "\n",
        "model = models.Sequential()\n",
        "model.add(layers.Conv2D(32,kernel_size=(3,3),activation='relu',input_shape=(224,224,3)))\n",
        "model.add(layers.Conv2D(128,(3,3),activation='relu'))\n",
        "model.add(layers.MaxPooling2D(pool_size=(2,2)))\n",
        "model.add(layers.Dropout(0.25))\n",
        "\n",
        "model.add(layers.Conv2D(64,(3,3),activation='relu'))\n",
        "model.add(layers.MaxPooling2D(pool_size=(2,2)))\n",
        "model.add(layers.Dropout(0.25))\n",
        "\n",
        "model.add(layers.Conv2D(128,(3,3),activation='relu'))\n",
        "model.add(layers.MaxPooling2D(pool_size=(2,2)))\n",
        "model.add(layers.Dropout(0.25))\n",
        "\n",
        "model.add(layers.Flatten())\n",
        "model.add(layers.Dense(64,activation='relu'))\n",
        "model.add(layers.Dropout(0.5))\n",
        "model.add(layers.Dense(1,activation='sigmoid'))\n",
        "\n",
        "from keras import optimizers\n",
        "model.compile(loss='binary_crossentropy',\n",
        "              optimizer='adam',\n",
        "              metrics=['acc'])\n",
        "\n",
        "model.summary()"
      ],
      "execution_count": null,
      "outputs": [
        {
          "output_type": "stream",
          "text": [
            "Model: \"sequential_1\"\n",
            "_________________________________________________________________\n",
            "Layer (type)                 Output Shape              Param #   \n",
            "=================================================================\n",
            "conv2d_4 (Conv2D)            (None, 222, 222, 32)      896       \n",
            "_________________________________________________________________\n",
            "conv2d_5 (Conv2D)            (None, 220, 220, 128)     36992     \n",
            "_________________________________________________________________\n",
            "max_pooling2d_3 (MaxPooling2 (None, 110, 110, 128)     0         \n",
            "_________________________________________________________________\n",
            "dropout_4 (Dropout)          (None, 110, 110, 128)     0         \n",
            "_________________________________________________________________\n",
            "conv2d_6 (Conv2D)            (None, 108, 108, 64)      73792     \n",
            "_________________________________________________________________\n",
            "max_pooling2d_4 (MaxPooling2 (None, 54, 54, 64)        0         \n",
            "_________________________________________________________________\n",
            "dropout_5 (Dropout)          (None, 54, 54, 64)        0         \n",
            "_________________________________________________________________\n",
            "conv2d_7 (Conv2D)            (None, 52, 52, 128)       73856     \n",
            "_________________________________________________________________\n",
            "max_pooling2d_5 (MaxPooling2 (None, 26, 26, 128)       0         \n",
            "_________________________________________________________________\n",
            "dropout_6 (Dropout)          (None, 26, 26, 128)       0         \n",
            "_________________________________________________________________\n",
            "flatten_1 (Flatten)          (None, 86528)             0         \n",
            "_________________________________________________________________\n",
            "dense_2 (Dense)              (None, 64)                5537856   \n",
            "_________________________________________________________________\n",
            "dropout_7 (Dropout)          (None, 64)                0         \n",
            "_________________________________________________________________\n",
            "dense_3 (Dense)              (None, 1)                 65        \n",
            "=================================================================\n",
            "Total params: 5,723,457\n",
            "Trainable params: 5,723,457\n",
            "Non-trainable params: 0\n",
            "_________________________________________________________________\n"
          ],
          "name": "stdout"
        }
      ]
    },
    {
      "cell_type": "code",
      "metadata": {
        "id": "jPtd28sJHM8-",
        "colab": {
          "base_uri": "https://localhost:8080/"
        },
        "outputId": "d6a9e56a-e114-484e-dd11-57d2448f2f3d"
      },
      "source": [
        "#Training and validation stages\n",
        "history = model.fit(\n",
        "      train_generator,\n",
        "      steps_per_epoch=7, #70\n",
        "      epochs= 9)"
      ],
      "execution_count": null,
      "outputs": [
        {
          "output_type": "stream",
          "text": [
            "Epoch 1/9\n",
            "7/7 [==============================] - 7s 951ms/step - loss: 2.3594 - acc: 0.4821\n",
            "Epoch 2/9\n",
            "7/7 [==============================] - 6s 914ms/step - loss: 0.6450 - acc: 0.6830\n",
            "Epoch 3/9\n",
            "7/7 [==============================] - 6s 900ms/step - loss: 0.4575 - acc: 0.7946\n",
            "Epoch 4/9\n",
            "7/7 [==============================] - 6s 881ms/step - loss: 0.3569 - acc: 0.8348\n",
            "Epoch 5/9\n",
            "7/7 [==============================] - 6s 912ms/step - loss: 0.4340 - acc: 0.8080\n",
            "Epoch 6/9\n",
            "7/7 [==============================] - 6s 902ms/step - loss: 0.3654 - acc: 0.8393\n",
            "Epoch 7/9\n",
            "7/7 [==============================] - 6s 901ms/step - loss: 0.2684 - acc: 0.8929\n",
            "Epoch 8/9\n",
            "7/7 [==============================] - 6s 911ms/step - loss: 0.2529 - acc: 0.9018\n",
            "Epoch 9/9\n",
            "7/7 [==============================] - 6s 917ms/step - loss: 0.2517 - acc: 0.9241\n"
          ],
          "name": "stdout"
        }
      ]
    },
    {
      "cell_type": "code",
      "metadata": {
        "id": "3VQF2x6pzLh2"
      },
      "source": [
        "# Saving the model\n",
        "model.save('/content/drive/My Drive/COVID-19_Dataset/covid_detection1.h5')"
      ],
      "execution_count": null,
      "outputs": []
    },
    {
      "cell_type": "markdown",
      "metadata": {
        "id": "DblYBUuOKRGN"
      },
      "source": [
        "## **Evaluating the model**"
      ]
    },
    {
      "cell_type": "markdown",
      "metadata": {
        "id": "F6YOmgvnKRGY"
      },
      "source": [
        "### **Confusion matrix**"
      ]
    },
    {
      "cell_type": "code",
      "metadata": {
        "id": "fIR2__85fXWc",
        "colab": {
          "base_uri": "https://localhost:8080/"
        },
        "outputId": "883d2905-4660-4332-a8ed-acc0ff3c5c01"
      },
      "source": [
        "from sklearn.metrics import confusion_matrix\n",
        "\n",
        "test_predictions = model.predict_generator(validation_generator, 60) # model.predict_generator(generador, num_lotes_por_epoca)"
      ],
      "execution_count": null,
      "outputs": [
        {
          "output_type": "stream",
          "text": [
            "WARNING:tensorflow:From <ipython-input-15-5adcdd27d6a4>:3: Model.predict_generator (from tensorflow.python.keras.engine.training) is deprecated and will be removed in a future version.\n",
            "Instructions for updating:\n",
            "Please use Model.predict, which supports generators.\n"
          ],
          "name": "stdout"
        }
      ]
    },
    {
      "cell_type": "code",
      "metadata": {
        "id": "3EY0LeHNfy-y",
        "colab": {
          "base_uri": "https://localhost:8080/"
        },
        "outputId": "ecec8e87-44c2-4b61-a4e1-c9dcacd10008"
      },
      "source": [
        "test_predictions = (test_predictions > 0.5)\n",
        "print(test_predictions)"
      ],
      "execution_count": null,
      "outputs": [
        {
          "output_type": "stream",
          "text": [
            "[[False]\n",
            " [False]\n",
            " [False]\n",
            " [False]\n",
            " [False]\n",
            " [False]\n",
            " [False]\n",
            " [False]\n",
            " [False]\n",
            " [False]\n",
            " [False]\n",
            " [False]\n",
            " [False]\n",
            " [False]\n",
            " [False]\n",
            " [False]\n",
            " [False]\n",
            " [False]\n",
            " [False]\n",
            " [False]\n",
            " [False]\n",
            " [False]\n",
            " [False]\n",
            " [False]\n",
            " [False]\n",
            " [False]\n",
            " [False]\n",
            " [False]\n",
            " [False]\n",
            " [False]\n",
            " [ True]\n",
            " [ True]\n",
            " [ True]\n",
            " [ True]\n",
            " [ True]\n",
            " [ True]\n",
            " [ True]\n",
            " [ True]\n",
            " [ True]\n",
            " [ True]\n",
            " [ True]\n",
            " [ True]\n",
            " [ True]\n",
            " [ True]\n",
            " [ True]\n",
            " [ True]\n",
            " [ True]\n",
            " [ True]\n",
            " [ True]\n",
            " [ True]\n",
            " [ True]\n",
            " [ True]\n",
            " [ True]\n",
            " [ True]\n",
            " [ True]\n",
            " [ True]\n",
            " [ True]\n",
            " [ True]\n",
            " [ True]\n",
            " [False]]\n"
          ],
          "name": "stdout"
        }
      ]
    },
    {
      "cell_type": "code",
      "metadata": {
        "id": "3K1l-0KSgKm5",
        "colab": {
          "base_uri": "https://localhost:8080/"
        },
        "outputId": "88e520cd-4dbc-48af-93d5-e0a9347d25d0"
      },
      "source": [
        "validation_generator.classes"
      ],
      "execution_count": null,
      "outputs": [
        {
          "output_type": "execute_result",
          "data": {
            "text/plain": [
              "array([0, 0, 0, 0, 0, 0, 0, 0, 0, 0, 0, 0, 0, 0, 0, 0, 0, 0, 0, 0, 0, 0,\n",
              "       0, 0, 0, 0, 0, 0, 0, 0, 1, 1, 1, 1, 1, 1, 1, 1, 1, 1, 1, 1, 1, 1,\n",
              "       1, 1, 1, 1, 1, 1, 1, 1, 1, 1, 1, 1, 1, 1, 1, 1], dtype=int32)"
            ]
          },
          "metadata": {
            "tags": []
          },
          "execution_count": 17
        }
      ]
    },
    {
      "cell_type": "code",
      "metadata": {
        "id": "J7MKzofaIIiI",
        "colab": {
          "base_uri": "https://localhost:8080/"
        },
        "outputId": "10454c13-d681-43d0-dfb9-177e437627bf"
      },
      "source": [
        "from sklearn.metrics import confusion_matrix\n",
        "\n",
        "test_predictions = model.predict_generator(validation_generator, 60) # model.predict_generator(generador, num_lotes_por_epoca)\n",
        "test_predictions = (test_predictions > 0.5)\n",
        "cm = confusion_matrix(validation_generator.classes, test_predictions)\n",
        "print('Confusion Matrix')\n",
        "print(cm)"
      ],
      "execution_count": null,
      "outputs": [
        {
          "output_type": "stream",
          "text": [
            "Confusion Matrix\n",
            "[[30  0]\n",
            " [ 1 29]]\n"
          ],
          "name": "stdout"
        }
      ]
    },
    {
      "cell_type": "code",
      "metadata": {
        "id": "AzrQCKckw-jz",
        "colab": {
          "base_uri": "https://localhost:8080/",
          "height": 370
        },
        "outputId": "d8d1e2cb-32ef-4c3a-87b4-7927941c8f78"
      },
      "source": [
        "import matplotlib.pyplot as plt\n",
        "import seaborn as sns\n",
        "\n",
        "fig, ax = plt.subplots(figsize=(5, 5))\n",
        "ax.matshow(cm, cmap=plt.cm.cividis_r, alpha=0.5)\n",
        "for i in range(cm.shape[0]):\n",
        "    for j in range(cm.shape[1]):\n",
        "        ax.text(x=j, y=i, s=cm[i, j], va='center', ha='center')\n",
        "\n",
        "plt.title(\"Matriz de confusión\", fontsize=15)\n",
        "plt.xlabel('Predicciones')\n",
        "plt.ylabel('Valores verdaderos o etiquetas')\n",
        "\n",
        "plt.tight_layout()\n",
        "plt.show()"
      ],
      "execution_count": null,
      "outputs": [
        {
          "output_type": "display_data",
          "data": {
            "image/png": "[encoded data removed]",
            "text/plain": [
              "<Figure size 360x360 with 1 Axes>"
            ]
          },
          "metadata": {
            "tags": [],
            "needs_background": "light"
          }
        }
      ]
    },
    {
      "cell_type": "markdown",
      "metadata": {
        "id": "M89n5NZ6_Mi2"
      },
      "source": [
        "### **Calculating F1 score**"
      ]
    },
    {
      "cell_type": "code",
      "metadata": {
        "id": "0P48jAGh9iD1",
        "colab": {
          "base_uri": "https://localhost:8080/"
        },
        "outputId": "fd438308-81bf-4a45-d949-22a387653397"
      },
      "source": [
        "from sklearn.metrics import precision_score\n",
        "from sklearn.metrics import recall_score, f1_score\n",
        "\n",
        "print('Precision: %.7f' % precision_score(y_true=validation_generator.classes, y_pred=test_predictions))\n",
        "print('Recall: %.7f' % recall_score(y_true=validation_generator.classes, y_pred=test_predictions))\n",
        "print('F1: %.7f' % f1_score(y_true=validation_generator.classes, y_pred=test_predictions))"
      ],
      "execution_count": null,
      "outputs": [
        {
          "output_type": "stream",
          "text": [
            "Precision: 1.0000000\n",
            "Recall: 0.9666667\n",
            "F1: 0.9830508\n"
          ],
          "name": "stdout"
        }
      ]
    },
    {
      "cell_type": "markdown",
      "metadata": {
        "id": "z7DOcyrExwDZ"
      },
      "source": [
        "# **Method # 2 (Transfer Learning based)**"
      ]
    },
    {
      "cell_type": "markdown",
      "metadata": {
        "id": "-7WWbw6JJp_G"
      },
      "source": [
        "## **Loading VGG16 architecture**"
      ]
    },
    {
      "cell_type": "code",
      "metadata": {
        "id": "xrqAdgeRQdM9",
        "colab": {
          "base_uri": "https://localhost:8080/",
          "height": 853
        },
        "outputId": "c7c6ff52-8e0b-4e15-b173-9258c0a46f20"
      },
      "source": [
        "from keras.applications import VGG16\n",
        "\n",
        "conv_base = VGG16(weights='imagenet',\n",
        "                  include_top=False,\n",
        "                  input_shape=(224, 224, 3))\n",
        "\n",
        "conv_base.summary()"
      ],
      "execution_count": null,
      "outputs": [
        {
          "output_type": "stream",
          "text": [
            "Downloading data from https://storage.googleapis.com/tensorflow/keras-applications/vgg16/vgg16_weights_tf_dim_ordering_tf_kernels_notop.h5\n",
            "58892288/58889256 [==============================] - 2s 0us/step\n",
            "Model: \"vgg16\"\n",
            "_________________________________________________________________\n",
            "Layer (type)                 Output Shape              Param #   \n",
            "=================================================================\n",
            "input_1 (InputLayer)         [(None, 224, 224, 3)]     0         \n",
            "_________________________________________________________________\n",
            "block1_conv1 (Conv2D)        (None, 224, 224, 64)      1792      \n",
            "_________________________________________________________________\n",
            "block1_conv2 (Conv2D)        (None, 224, 224, 64)      36928     \n",
            "_________________________________________________________________\n",
            "block1_pool (MaxPooling2D)   (None, 112, 112, 64)      0         \n",
            "_________________________________________________________________\n",
            "block2_conv1 (Conv2D)        (None, 112, 112, 128)     73856     \n",
            "_________________________________________________________________\n",
            "block2_conv2 (Conv2D)        (None, 112, 112, 128)     147584    \n",
            "_________________________________________________________________\n",
            "block2_pool (MaxPooling2D)   (None, 56, 56, 128)       0         \n",
            "_________________________________________________________________\n",
            "block3_conv1 (Conv2D)        (None, 56, 56, 256)       295168    \n",
            "_________________________________________________________________\n",
            "block3_conv2 (Conv2D)        (None, 56, 56, 256)       590080    \n",
            "_________________________________________________________________\n",
            "block3_conv3 (Conv2D)        (None, 56, 56, 256)       590080    \n",
            "_________________________________________________________________\n",
            "block3_pool (MaxPooling2D)   (None, 28, 28, 256)       0         \n",
            "_________________________________________________________________\n",
            "block4_conv1 (Conv2D)        (None, 28, 28, 512)       1180160   \n",
            "_________________________________________________________________\n",
            "block4_conv2 (Conv2D)        (None, 28, 28, 512)       2359808   \n",
            "_________________________________________________________________\n",
            "block4_conv3 (Conv2D)        (None, 28, 28, 512)       2359808   \n",
            "_________________________________________________________________\n",
            "block4_pool (MaxPooling2D)   (None, 14, 14, 512)       0         \n",
            "_________________________________________________________________\n",
            "block5_conv1 (Conv2D)        (None, 14, 14, 512)       2359808   \n",
            "_________________________________________________________________\n",
            "block5_conv2 (Conv2D)        (None, 14, 14, 512)       2359808   \n",
            "_________________________________________________________________\n",
            "block5_conv3 (Conv2D)        (None, 14, 14, 512)       2359808   \n",
            "_________________________________________________________________\n",
            "block5_pool (MaxPooling2D)   (None, 7, 7, 512)         0         \n",
            "=================================================================\n",
            "Total params: 14,714,688\n",
            "Trainable params: 14,714,688\n",
            "Non-trainable params: 0\n",
            "_________________________________________________________________\n"
          ],
          "name": "stdout"
        }
      ]
    },
    {
      "cell_type": "markdown",
      "metadata": {
        "id": "8Q6SaotDJvml"
      },
      "source": [
        "## **Freezing some VGG16 layers**"
      ]
    },
    {
      "cell_type": "code",
      "metadata": {
        "id": "GToxLhHtQxSm",
        "colab": {
          "base_uri": "https://localhost:8080/",
          "height": 799
        },
        "outputId": "65931f5e-a707-41fb-d883-814f9d383a03"
      },
      "source": [
        "for layer in conv_base.layers:\n",
        "    if layer.name[:6] == 'block5': \n",
        "      layer.trainable = True\n",
        "    else:\n",
        "      layer.trainable = False\n",
        "\n",
        "conv_base.summary()"
      ],
      "execution_count": null,
      "outputs": [
        {
          "output_type": "stream",
          "text": [
            "Model: \"vgg16\"\n",
            "_________________________________________________________________\n",
            "Layer (type)                 Output Shape              Param #   \n",
            "=================================================================\n",
            "input_1 (InputLayer)         [(None, 224, 224, 3)]     0         \n",
            "_________________________________________________________________\n",
            "block1_conv1 (Conv2D)        (None, 224, 224, 64)      1792      \n",
            "_________________________________________________________________\n",
            "block1_conv2 (Conv2D)        (None, 224, 224, 64)      36928     \n",
            "_________________________________________________________________\n",
            "block1_pool (MaxPooling2D)   (None, 112, 112, 64)      0         \n",
            "_________________________________________________________________\n",
            "block2_conv1 (Conv2D)        (None, 112, 112, 128)     73856     \n",
            "_________________________________________________________________\n",
            "block2_conv2 (Conv2D)        (None, 112, 112, 128)     147584    \n",
            "_________________________________________________________________\n",
            "block2_pool (MaxPooling2D)   (None, 56, 56, 128)       0         \n",
            "_________________________________________________________________\n",
            "block3_conv1 (Conv2D)        (None, 56, 56, 256)       295168    \n",
            "_________________________________________________________________\n",
            "block3_conv2 (Conv2D)        (None, 56, 56, 256)       590080    \n",
            "_________________________________________________________________\n",
            "block3_conv3 (Conv2D)        (None, 56, 56, 256)       590080    \n",
            "_________________________________________________________________\n",
            "block3_pool (MaxPooling2D)   (None, 28, 28, 256)       0         \n",
            "_________________________________________________________________\n",
            "block4_conv1 (Conv2D)        (None, 28, 28, 512)       1180160   \n",
            "_________________________________________________________________\n",
            "block4_conv2 (Conv2D)        (None, 28, 28, 512)       2359808   \n",
            "_________________________________________________________________\n",
            "block4_conv3 (Conv2D)        (None, 28, 28, 512)       2359808   \n",
            "_________________________________________________________________\n",
            "block4_pool (MaxPooling2D)   (None, 14, 14, 512)       0         \n",
            "_________________________________________________________________\n",
            "block5_conv1 (Conv2D)        (None, 14, 14, 512)       2359808   \n",
            "_________________________________________________________________\n",
            "block5_conv2 (Conv2D)        (None, 14, 14, 512)       2359808   \n",
            "_________________________________________________________________\n",
            "block5_conv3 (Conv2D)        (None, 14, 14, 512)       2359808   \n",
            "_________________________________________________________________\n",
            "block5_pool (MaxPooling2D)   (None, 7, 7, 512)         0         \n",
            "=================================================================\n",
            "Total params: 14,714,688\n",
            "Trainable params: 7,079,424\n",
            "Non-trainable params: 7,635,264\n",
            "_________________________________________________________________\n"
          ],
          "name": "stdout"
        }
      ]
    },
    {
      "cell_type": "markdown",
      "metadata": {
        "id": "Uox0ZSabxzMY"
      },
      "source": [
        "## **Defining the architecture of the CNN (including the Transfer Learning module)**"
      ]
    },
    {
      "cell_type": "code",
      "metadata": {
        "id": "5yPtRu_rxzMa",
        "colab": {
          "base_uri": "https://localhost:8080/",
          "height": 323
        },
        "outputId": "755471bb-fadb-48cc-d5ba-235f967d3c25"
      },
      "source": [
        "from keras import layers\n",
        "from keras import models\n",
        "from keras.layers.normalization import BatchNormalization\n",
        "\n",
        "model = models.Sequential()\n",
        "model.add(conv_base)\n",
        "model.add(layers.MaxPooling2D((2, 2)))\n",
        "model.add(layers.BatchNormalization())\n",
        "model.add(layers.Flatten())\n",
        "model.add(layers.Dense(1, activation='sigmoid'))\n",
        "\n",
        "model.summary()"
      ],
      "execution_count": null,
      "outputs": [
        {
          "output_type": "stream",
          "text": [
            "Model: \"sequential\"\n",
            "_________________________________________________________________\n",
            "Layer (type)                 Output Shape              Param #   \n",
            "=================================================================\n",
            "vgg16 (Functional)           (None, 7, 7, 512)         14714688  \n",
            "_________________________________________________________________\n",
            "max_pooling2d (MaxPooling2D) (None, 3, 3, 512)         0         \n",
            "_________________________________________________________________\n",
            "batch_normalization (BatchNo (None, 3, 3, 512)         2048      \n",
            "_________________________________________________________________\n",
            "flatten (Flatten)            (None, 4608)              0         \n",
            "_________________________________________________________________\n",
            "dense (Dense)                (None, 1)                 4609      \n",
            "=================================================================\n",
            "Total params: 14,721,345\n",
            "Trainable params: 7,085,057\n",
            "Non-trainable params: 7,636,288\n",
            "_________________________________________________________________\n"
          ],
          "name": "stdout"
        }
      ]
    },
    {
      "cell_type": "markdown",
      "metadata": {
        "id": "I21WuD4AxzMj"
      },
      "source": [
        "## **Compiling the model**"
      ]
    },
    {
      "cell_type": "code",
      "metadata": {
        "id": "5744J8SoxzMk"
      },
      "source": [
        "from keras import optimizers\n",
        "model.compile(loss='binary_crossentropy',\n",
        "              optimizer=optimizers.RMSprop(lr=1e-4),\n",
        "              metrics=['acc'])"
      ],
      "execution_count": null,
      "outputs": []
    },
    {
      "cell_type": "markdown",
      "metadata": {
        "id": "2IZmJDfQyNCL"
      },
      "source": [
        "## **Training**"
      ]
    },
    {
      "cell_type": "code",
      "metadata": {
        "id": "W5XKB-rXyNCS",
        "colab": {
          "base_uri": "https://localhost:8080/",
          "height": 357
        },
        "outputId": "9efbb2eb-07e1-44b6-c44f-53b430ffe64a"
      },
      "source": [
        "#Training and validation stages\n",
        "history = model.fit(\n",
        "      train_generator,\n",
        "      steps_per_epoch=7, #70\n",
        "      epochs= 10,\n",
        "      validation_data=validation_generator,\n",
        "      validation_steps=60)"
      ],
      "execution_count": null,
      "outputs": [
        {
          "output_type": "stream",
          "text": [
            "Epoch 1/10\n",
            "7/7 [==============================] - 6s 794ms/step - loss: 0.2942 - acc: 0.8705 - val_loss: 0.3748 - val_acc: 0.7333\n",
            "Epoch 2/10\n",
            "7/7 [==============================] - 6s 896ms/step - loss: 0.0120 - acc: 0.9955 - val_loss: 0.4549 - val_acc: 0.7167\n",
            "Epoch 3/10\n",
            "7/7 [==============================] - 6s 860ms/step - loss: 0.0051 - acc: 1.0000 - val_loss: 0.3722 - val_acc: 0.8167\n",
            "Epoch 4/10\n",
            "7/7 [==============================] - 6s 877ms/step - loss: 0.0041 - acc: 1.0000 - val_loss: 0.4174 - val_acc: 0.8000\n",
            "Epoch 5/10\n",
            "7/7 [==============================] - 6s 888ms/step - loss: 0.0017 - acc: 1.0000 - val_loss: 0.2847 - val_acc: 0.8500\n",
            "Epoch 6/10\n",
            "7/7 [==============================] - 6s 883ms/step - loss: 0.0020 - acc: 1.0000 - val_loss: 0.2180 - val_acc: 0.9000\n",
            "Epoch 7/10\n",
            "7/7 [==============================] - 6s 888ms/step - loss: 0.0010 - acc: 1.0000 - val_loss: 0.1769 - val_acc: 0.9167\n",
            "Epoch 8/10\n",
            "7/7 [==============================] - 6s 864ms/step - loss: 8.9964e-04 - acc: 1.0000 - val_loss: 0.1995 - val_acc: 0.9000\n",
            "Epoch 9/10\n",
            "7/7 [==============================] - 6s 885ms/step - loss: 3.5449e-04 - acc: 1.0000 - val_loss: 0.1181 - val_acc: 0.9500\n",
            "Epoch 10/10\n",
            "7/7 [==============================] - 6s 860ms/step - loss: 2.3422e-04 - acc: 1.0000 - val_loss: 0.1098 - val_acc: 0.9667\n"
          ],
          "name": "stdout"
        }
      ]
    },
    {
      "cell_type": "markdown",
      "metadata": {
        "id": "Taa4lx7iLQSP"
      },
      "source": [
        "## **Accuracy and loss graphs**"
      ]
    },
    {
      "cell_type": "code",
      "metadata": {
        "id": "JPSNYZ3RLQSQ",
        "colab": {
          "base_uri": "https://localhost:8080/",
          "height": 545
        },
        "outputId": "6a1dff71-0441-44c3-f1a4-3e16449a9d9d"
      },
      "source": [
        "import matplotlib.pyplot as plt\n",
        "\n",
        "acc = history.history['acc']\n",
        "val_acc = history.history['val_acc']\n",
        "loss = history.history['loss']\n",
        "val_loss = history.history['val_loss']\n",
        "\n",
        "epochs = range(len(acc))\n",
        "\n",
        "plt.plot(epochs, acc, 'go', label='Precisión en el entrenamiento')\n",
        "plt.plot(epochs, val_acc, 'r', label='Precisión en la validación')\n",
        "plt.title('Precisión durante el entrenamiento y la validación')\n",
        "plt.legend()\n",
        "\n",
        "plt.figure()\n",
        "\n",
        "plt.plot(epochs, loss, 'go', label='Pérdida en el entrenamiento')\n",
        "plt.plot(epochs, val_loss, 'r', label='Pérdida en la validación')\n",
        "plt.title('Pérdida durante el entrenamiento y la validación')\n",
        "plt.legend()\n",
        "\n",
        "plt.show()"
      ],
      "execution_count": null,
      "outputs": [
        {
          "output_type": "display_data",
          "data": {
            "image/png": "[encoded data removed]",
            "text/plain": [
              "<Figure size 432x288 with 1 Axes>"
            ]
          },
          "metadata": {
            "tags": [],
            "needs_background": "light"
          }
        },
        {
          "output_type": "display_data",
          "data": {
            "image/png": "[encoded data removed]",
            "text/plain": [
              "<Figure size 432x288 with 1 Axes>"
            ]
          },
          "metadata": {
            "tags": [],
            "needs_background": "light"
          }
        }
      ]
    },
    {
      "cell_type": "markdown",
      "metadata": {
        "id": "8jdf8oDqLBvr"
      },
      "source": [
        "## **Retraining the model**"
      ]
    },
    {
      "cell_type": "code",
      "metadata": {
        "id": "dvoyHH8QLGQ1",
        "colab": {
          "base_uri": "https://localhost:8080/",
          "height": 323
        },
        "outputId": "92b6da82-af55-4b8c-9f79-89fa826b217c"
      },
      "source": [
        "from keras import layers\n",
        "from keras import models\n",
        "from keras.layers.normalization import BatchNormalization\n",
        "\n",
        "model = models.Sequential()\n",
        "model.add(conv_base)\n",
        "model.add(layers.MaxPooling2D((2, 2)))\n",
        "model.add(layers.BatchNormalization())\n",
        "model.add(layers.Flatten())\n",
        "model.add(layers.Dense(1, activation='sigmoid'))\n",
        "\n",
        "model.compile(loss='binary_crossentropy',\n",
        "              optimizer=optimizers.RMSprop(lr=1e-4),\n",
        "              metrics=['acc'])\n",
        "model.summary()"
      ],
      "execution_count": null,
      "outputs": [
        {
          "output_type": "stream",
          "text": [
            "Model: \"sequential_1\"\n",
            "_________________________________________________________________\n",
            "Layer (type)                 Output Shape              Param #   \n",
            "=================================================================\n",
            "vgg16 (Functional)           (None, 7, 7, 512)         14714688  \n",
            "_________________________________________________________________\n",
            "max_pooling2d_1 (MaxPooling2 (None, 3, 3, 512)         0         \n",
            "_________________________________________________________________\n",
            "batch_normalization_1 (Batch (None, 3, 3, 512)         2048      \n",
            "_________________________________________________________________\n",
            "flatten_1 (Flatten)          (None, 4608)              0         \n",
            "_________________________________________________________________\n",
            "dense_1 (Dense)              (None, 1)                 4609      \n",
            "=================================================================\n",
            "Total params: 14,721,345\n",
            "Trainable params: 7,085,057\n",
            "Non-trainable params: 7,636,288\n",
            "_________________________________________________________________\n"
          ],
          "name": "stdout"
        }
      ]
    },
    {
      "cell_type": "code",
      "metadata": {
        "id": "5fAT6WvsLMUF",
        "colab": {
          "base_uri": "https://localhost:8080/",
          "height": 289
        },
        "outputId": "aeea133a-7eb5-4fbd-9172-e434f03dee9f"
      },
      "source": [
        "# Training and validation stages\n",
        "history = model.fit(\n",
        "      train_generator,\n",
        "      steps_per_epoch=7, #70\n",
        "      epochs= 8)"
      ],
      "execution_count": null,
      "outputs": [
        {
          "output_type": "stream",
          "text": [
            "Epoch 1/8\n",
            "7/7 [==============================] - 7s 949ms/step - loss: 0.1346 - acc: 0.9241\n",
            "Epoch 2/8\n",
            "7/7 [==============================] - 7s 1s/step - loss: 0.0026 - acc: 1.0000\n",
            "Epoch 3/8\n",
            "7/7 [==============================] - 7s 1s/step - loss: 0.0019 - acc: 1.0000\n",
            "Epoch 4/8\n",
            "7/7 [==============================] - 7s 1s/step - loss: 0.0020 - acc: 1.0000\n",
            "Epoch 5/8\n",
            "7/7 [==============================] - 7s 959ms/step - loss: 0.0011 - acc: 1.0000\n",
            "Epoch 6/8\n",
            "7/7 [==============================] - 7s 981ms/step - loss: 0.0015 - acc: 1.0000\n",
            "Epoch 7/8\n",
            "7/7 [==============================] - 7s 1s/step - loss: 2.3224e-04 - acc: 1.0000\n",
            "Epoch 8/8\n",
            "7/7 [==============================] - 7s 988ms/step - loss: 0.0080 - acc: 0.9955\n"
          ],
          "name": "stdout"
        }
      ]
    },
    {
      "cell_type": "code",
      "metadata": {
        "id": "mBvrrq73LYfq"
      },
      "source": [
        "# Saving the model in Google Drive\n",
        "model.save('/content/drive/My Drive/COVID-19_Dataset/covid_detection2.h5')"
      ],
      "execution_count": null,
      "outputs": []
    },
    {
      "cell_type": "markdown",
      "metadata": {
        "id": "9dK9mmEfLg8N"
      },
      "source": [
        "# **Evaluating the model**"
      ]
    },
    {
      "cell_type": "markdown",
      "metadata": {
        "id": "qX3HiMfQLg8P"
      },
      "source": [
        "### **Confusion Matrix**"
      ]
    },
    {
      "cell_type": "code",
      "metadata": {
        "id": "8S-RencWLg8Q",
        "colab": {
          "base_uri": "https://localhost:8080/",
          "height": 68
        },
        "outputId": "e5225c59-2d81-4a53-e439-6c0959068445"
      },
      "source": [
        "test_predictions = model.predict_generator(validation_generator, 60)\n",
        "test_predictions = (test_predictions > 0.5)\n",
        "cm = confusion_matrix(validation_generator.classes, test_predictions)\n",
        "print('Confusion Matrix')\n",
        "print(cm)"
      ],
      "execution_count": null,
      "outputs": [
        {
          "output_type": "stream",
          "text": [
            "Confusion Matrix\n",
            "[[30  0]\n",
            " [ 1 29]]\n"
          ],
          "name": "stdout"
        }
      ]
    },
    {
      "cell_type": "code",
      "metadata": {
        "id": "kbtOGFUdLg8X",
        "colab": {
          "base_uri": "https://localhost:8080/",
          "height": 370
        },
        "outputId": "e3bb1454-c96a-4189-e423-f22cc3c693e0"
      },
      "source": [
        "import matplotlib.pyplot as plt\n",
        "import seaborn as sns\n",
        "\n",
        "fig, ax = plt.subplots(figsize=(5, 5))\n",
        "ax.matshow(cm, cmap=plt.cm.ocean, alpha=0.5)\n",
        "for i in range(cm.shape[0]):\n",
        "    for j in range(cm.shape[1]):\n",
        "        ax.text(x=j, y=i, s=cm[i, j], va='center', ha='center')\n",
        "\n",
        "plt.title(\"Matriz de confusión\", fontsize=15)\n",
        "plt.xlabel('Predicciones')\n",
        "plt.ylabel('Valores verdaderos o etiquetas')\n",
        "\n",
        "plt.tight_layout()\n",
        "plt.show()"
      ],
      "execution_count": null,
      "outputs": [
        {
          "output_type": "display_data",
          "data": {
            "image/png": "[encoded data removed]",
            "text/plain": [
              "<Figure size 360x360 with 1 Axes>"
            ]
          },
          "metadata": {
            "tags": [],
            "needs_background": "light"
          }
        }
      ]
    },
    {
      "cell_type": "markdown",
      "metadata": {
        "id": "fEVXHvCVLg8Z"
      },
      "source": [
        "### **Calculating F1 score**"
      ]
    },
    {
      "cell_type": "code",
      "metadata": {
        "id": "GeHaqBUHLg8a",
        "colab": {
          "base_uri": "https://localhost:8080/",
          "height": 68
        },
        "outputId": "0c6da408-709e-4ac5-b59f-232709572bc2"
      },
      "source": [
        "from sklearn.metrics import precision_score\n",
        "from sklearn.metrics import recall_score, f1_score\n",
        "\n",
        "print('Precision: %.7f' % precision_score(y_true=validation_generator.classes, y_pred=test_predictions))\n",
        "print('Recall: %.7f' % recall_score(y_true=validation_generator.classes, y_pred=test_predictions))\n",
        "print('F1: %.7f' % f1_score(y_true=validation_generator.classes, y_pred=test_predictions))"
      ],
      "execution_count": null,
      "outputs": [
        {
          "output_type": "stream",
          "text": [
            "Precision: 1.0000000\n",
            "Recall: 0.9666667\n",
            "F1: 0.9830508\n"
          ],
          "name": "stdout"
        }
      ]
    }
  ]
}